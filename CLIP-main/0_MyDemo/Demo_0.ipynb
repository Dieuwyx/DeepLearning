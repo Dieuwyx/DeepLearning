{
 "cells": [
  {
   "cell_type": "code",
   "id": "initial_id",
   "metadata": {
    "collapsed": true,
    "ExecuteTime": {
     "end_time": "2024-12-28T14:37:12.547740Z",
     "start_time": "2024-12-28T14:36:13.772432Z"
    }
   },
   "source": [
    "import torch\n",
    "import clip\n",
    "from PIL import Image\n",
    "# 定义模型\n",
    "device = \"cuda\" if torch.cuda.is_available() else \"cpu\"\n",
    "model, preprocess = clip.load(\"ViT-B/32\", device=device)\n",
    "\n",
    "image = preprocess(Image.open(\"../CLIP.png\")).unsqueeze(0).to(device)\n",
    "text = clip.tokenize([\"a diagram\", \"a dog\", \"a cat\"]).to(device)\n",
    "\n",
    "with torch.no_grad():\n",
    "    image_features = model.encode_image(image)\n",
    "    text_features = model.encode_text(text)\n",
    "\n",
    "    logits_per_image, logits_per_text = model(image, text)\n",
    "    probs = logits_per_image.softmax(dim=-1).cpu().numpy()\n",
    "\n",
    "print(\"Label probs:\", probs)  # prints: [[0.9927937  0.00421068 0.00299572]]"
   ],
   "outputs": [
    {
     "name": "stdout",
     "output_type": "stream",
     "text": [
      "Label probs: [[0.9927   0.004185 0.002968]]\n"
     ]
    }
   ],
   "execution_count": 3
  },
  {
   "metadata": {},
   "cell_type": "markdown",
   "source": [
    "```python\n",
    "_MODELS = {\n",
    "    \"RN50\": \"https://openaipublic.azureedge.net/clip/models/afeb0e10f9e5a86da6080e35cf09123aca3b358a0c3e3b6c78a7b63bc04b6762/RN50.pt\",\n",
    "    \"RN101\": \"https://openaipublic.azureedge.net/clip/models/8fa8567bab74a42d41c5915025a8e4538c3bdbe8804a470a72f30b0d94fab599/RN101.pt\",\n",
    "    \"RN50x4\": \"https://openaipublic.azureedge.net/clip/models/7e526bd135e493cef0776de27d5f42653e6b4c8bf9e0f653bb11773263205fdd/RN50x4.pt\",\n",
    "    \"RN50x16\": \"https://openaipublic.azureedge.net/clip/models/52378b407f34354e150460fe41077663dd5b39c54cd0bfd2b27167a4a06ec9aa/RN50x16.pt\",\n",
    "    \"RN50x64\": \"https://openaipublic.azureedge.net/clip/models/be1cfb55d75a9666199fb2206c106743da0f6468c9d327f3e0d0a543a9919d9c/RN50x64.pt\",\n",
    "    \"ViT-B/32\": \"https://openaipublic.azureedge.net/clip/models/40d365715913c9da98579312b702a82c18be219cc2a73407c4526f58eba950af/ViT-B-32.pt\",\n",
    "    \"ViT-B/16\": \"https://openaipublic.azureedge.net/clip/models/5806e77cd80f8b59890b7e101eabd078d9fb84e6937f9e85e4ecb61988df416f/ViT-B-16.pt\",\n",
    "    \"ViT-L/14\": \"https://openaipublic.azureedge.net/clip/models/b8cca3fd41ae0c99ba7e8951adf17d267cdb84cd88be6f7c2e0eca1737a03836/ViT-L-14.pt\",\n",
    "    \"ViT-L/14@336px\": \"https://openaipublic.azureedge.net/clip/models/3035c92b350959924f9f00213499208652fc7ea050643e8b385c2dac08641f02/ViT-L-14-336px.pt\",\n",
    "}\n",
    "\n",
    "```"
   ],
   "id": "33628fc7dad3ccb"
  },
  {
   "metadata": {},
   "cell_type": "markdown",
   "source": [
    "# clip模型判断是否是羽毛球\n",
    "参考的是官方给出的应用\n",
    "输入Image和text，在text中给出相应的分类提示，最后输出该image在不同文本提示下的类别概率。\n",
    "\n"
   ],
   "id": "ec90aceab55da994"
  },
  {
   "metadata": {
    "ExecuteTime": {
     "end_time": "2024-12-28T14:38:02.864319Z",
     "start_time": "2024-12-28T14:37:49.588594Z"
    }
   },
   "cell_type": "code",
   "source": [
    "# 定义模型\n",
    "device = \"cuda\" if torch.cuda.is_available() else \"cpu\"\n",
    "print(\"device\", device)\n",
    "model, preprocess = clip.load(\"ViT-B/32\", device=device)\n",
    "\n",
    "# 加载数据\n",
    "image = preprocess(Image.open(\"../1_image/badminton.png\")).unsqueeze(0).to(device)\n",
    "text = clip.tokenize([\"badminton\", \"ball\", \"football\"]).to(device)\n",
    "\n",
    "# 将数据导入模型\n",
    "with torch.no_grad():\n",
    "    # 先对数据进行编码\n",
    "    image_features = model.encode_image(image)\n",
    "    text_features = model.encode_text(text)\n",
    "    # 再将完成编码后的特征输入至模型中，得出矩阵结果\n",
    "    logits_per_image, logits_per_text = model(image, text)\n",
    "    print(\"logtis_per_image: \", logits_per_image)\n",
    "    print(\"logits_per_text: \", logits_per_text)\n",
    "    # 最后用softmax输出概率\n",
    "    probs = logits_per_image.softmax(dim=-1).cpu().numpy()\n",
    "\n",
    "print(f\"Label probs: {probs}\")"
   ],
   "id": "8e27d8842b8802d7",
   "outputs": [
    {
     "name": "stdout",
     "output_type": "stream",
     "text": [
      "device cuda\n",
      "logtis_per_image:  tensor([[33.4688, 26.0469, 23.0000]], device='cuda:0', dtype=torch.float16)\n",
      "logits_per_text:  tensor([[33.4688],\n",
      "        [26.0469],\n",
      "        [23.0000]], device='cuda:0', dtype=torch.float16)\n",
      "Label probs: [[9.995e-01 5.975e-04 2.837e-05]]\n"
     ]
    }
   ],
   "execution_count": 4
  },
  {
   "metadata": {},
   "cell_type": "markdown",
   "source": "![badminton](https://www.huanghehao.cn/wp-content/uploads/2022/08/e5c2b4e3b6c5055231c8283fdfa41c81.jpg)\n",
   "id": "6571e0fe5370746b"
  },
  {
   "metadata": {},
   "cell_type": "markdown",
   "source": "# clip模型zero-shot预测\n",
   "id": "ebc02cc26937213d"
  },
  {
   "metadata": {
    "ExecuteTime": {
     "end_time": "2024-12-28T14:39:31.980175Z",
     "start_time": "2024-12-28T14:38:57.366544Z"
    }
   },
   "cell_type": "code",
   "source": [
    "import os\n",
    "from torchvision.datasets import CIFAR100\n",
    "import matplotlib.pyplot as plt\n",
    "\n",
    "device = \"cuda\" if torch.cuda.is_available() else \"cpu\"\n",
    "model_B, preprocess_B = clip.load('ViT-B/32', device)\n",
    "model_L, preprocess_L = clip.load('ViT-L/14@336px', device)\n",
    "\n",
    "cifar100 = CIFAR100(root=os.path.expanduser(\"~/.cache\"), download=True, train=False)\n"
   ],
   "id": "283d60d2ce9b537e",
   "outputs": [
    {
     "name": "stdout",
     "output_type": "stream",
     "text": [
      "Files already downloaded and verified\n"
     ]
    }
   ],
   "execution_count": 5
  },
  {
   "metadata": {
    "ExecuteTime": {
     "end_time": "2024-12-28T14:49:33.855769Z",
     "start_time": "2024-12-28T14:49:33.710456Z"
    }
   },
   "cell_type": "code",
   "source": [
    "# 加载数据中的任意一张\n",
    "# （1）从数据集中随机抽取⼀张图⽚，作为图⽚输⼊\n",
    "# （2）取出该数据集下所有的标签，作为⽂字数据\n",
    "image, class_id = cifar100[1000]\n",
    "image_input = preprocess_B(image).unsqueeze(0).to(device)\n",
    "text_inputs = torch.cat([clip.tokenize(f\"a photo of a {c}\") for c in cifar100.classes]).to(device)\n",
    "\n",
    "plt.imshow(image)\n",
    "plt.show()"
   ],
   "id": "90e10198a497a123",
   "outputs": [
    {
     "data": {
      "text/plain": [
       "<Figure size 640x480 with 1 Axes>"
      ],
      "image/png": "[encoded data removed]"
     },
     "metadata": {},
     "output_type": "display_data"
    }
   ],
   "execution_count": 15
  },
  {
   "metadata": {
    "ExecuteTime": {
     "end_time": "2024-12-28T14:49:40.627058Z",
     "start_time": "2024-12-28T14:49:38.930768Z"
    }
   },
   "cell_type": "code",
   "source": [
    "# vit-B\n",
    "with torch.no_grad():\n",
    "    image_features = model_B.encode_image(image_input)\n",
    "    text_features = model_B.encode_text(text_inputs)\n",
    "\n",
    "# 分别对图像、⽂字特征向量做归⼀化处理，\n",
    "# 然后计算余弦相似度\n",
    "# 取最相似的top5结果\n",
    "image_features /= image_features.norm(dim=-1, keepdim=True)\n",
    "text_features /= text_features.norm(dim=-1, keepdim=True)\n",
    "\n",
    "similarity = (100.0 * image_features @ text_features.T).softmax(dim=-1)\n",
    "values, indices = similarity[0].topk(5)\n",
    "\n",
    "# Print the result\n",
    "print(\"This is vit-B/32 results.\")\n",
    "print(\"\\nTop predictions:\\n\")\n",
    "for value, index in zip(values, indices):\n",
    "    print(f\"{cifar100.classes[index]:>16s}: {100 * value.item():.2f}%\")"
   ],
   "id": "bd5973f00a86d306",
   "outputs": [
    {
     "name": "stdout",
     "output_type": "stream",
     "text": [
      "This is vit-B/32 results.\n",
      "\n",
      "Top predictions:\n",
      "\n",
      "        flatfish: 11.28%\n",
      "           shrew: 9.80%\n",
      "    sweet_pepper: 6.04%\n",
      "          rabbit: 5.00%\n",
      "   aquarium_fish: 3.90%\n"
     ]
    }
   ],
   "execution_count": 16
  },
  {
   "metadata": {
    "ExecuteTime": {
     "end_time": "2024-12-28T14:50:06.796438Z",
     "start_time": "2024-12-28T14:49:59.214394Z"
    }
   },
   "cell_type": "code",
   "source": [
    "# vit-L\n",
    "image_input = preprocess_L(image).unsqueeze(0).to(device)\n",
    "with torch.no_grad():\n",
    "    image_features = model_L.encode_image(image_input)\n",
    "    text_features = model_L.encode_text(text_inputs)\n",
    "\n",
    "# 分别对图像、⽂字特征向量做归⼀化处理，\n",
    "# 然后计算余弦相似度\n",
    "# 取最相似的top5结果\n",
    "image_features /= image_features.norm(dim=-1, keepdim=True)\n",
    "text_features /= text_features.norm(dim=-1, keepdim=True)\n",
    "\n",
    "similarity = (100.0 * image_features @ text_features.T).softmax(dim=-1)\n",
    "values, indices = similarity[0].topk(5)\n",
    "\n",
    "# Print the result\n",
    "print(\"This is vit-L results.\")\n",
    "print(\"\\nTop predictions:\\n\")\n",
    "for value, index in zip(values, indices):\n",
    "    print(f\"{cifar100.classes[index]:>16s}: {100 * value.item():.2f}%\")"
   ],
   "id": "81913001d5804c89",
   "outputs": [
    {
     "name": "stdout",
     "output_type": "stream",
     "text": [
      "This is vit-L results.\n",
      "\n",
      "Top predictions:\n",
      "\n",
      "          rabbit: 60.06%\n",
      "           shrew: 10.12%\n",
      "    sweet_pepper: 3.96%\n",
      "       porcupine: 2.09%\n",
      "           mouse: 1.53%\n"
     ]
    }
   ],
   "execution_count": 17
  },
  {
   "metadata": {},
   "cell_type": "markdown",
   "source": "下面对图像进行逻辑回归",
   "id": "a82ba1706d78e1cc"
  },
  {
   "metadata": {
    "ExecuteTime": {
     "end_time": "2024-12-28T15:10:44.773662Z",
     "start_time": "2024-12-28T14:55:35.792191Z"
    }
   },
   "cell_type": "code",
   "source": [
    "import numpy as np\n",
    "from sklearn.linear_model import LogisticRegression\n",
    "from torch.utils.data import DataLoader\n",
    "from torchvision.datasets import CIFAR100\n",
    "from tqdm import *\n",
    "\n",
    "# Load the dataset\n",
    "root = os.path.expanduser(\"~/.cache\")\n",
    "train = CIFAR100(root, download=True, train=True, transform=preprocess)\n",
    "test = CIFAR100(root, download=True, train=False, transform=preprocess)\n",
    "\n",
    "def get_features(dataset):\n",
    "    all_features = []\n",
    "    all_labels = []\n",
    "\n",
    "    with torch.no_grad():\n",
    "        for images, labels in tqdm(DataLoader(dataset, batch_size=100)):\n",
    "            features = model.encode_image(images.to(device))\n",
    "\n",
    "            all_features.append(features)\n",
    "            all_labels.append(labels)\n",
    "\n",
    "    return torch.cat(all_features).cpu().numpy(), torch.cat(all_labels).cpu().numpy()\n",
    "\n",
    "# Calculate the image features\n",
    "train_features, train_labels = get_features(train)\n",
    "test_features, test_labels = get_features(test)\n",
    "\n",
    "# Perform logistic regression\n",
    "classifier = LogisticRegression(random_state=0, C=0.316, max_iter=1000, verbose=1)\n",
    "classifier.fit(train_features, train_labels)\n",
    "\n",
    "# Evaluate using the logistic regression classifier\n",
    "predictions = classifier.predict(test_features)\n",
    "accuracy = np.mean((test_labels == predictions).astype(float)) * 100.\n",
    "print(f\"Accuracy = {accuracy:.3f}\")"
   ],
   "id": "47754cb0b0838a67",
   "outputs": [
    {
     "name": "stdout",
     "output_type": "stream",
     "text": [
      "Files already downloaded and verified\n",
      "Files already downloaded and verified\n"
     ]
    },
    {
     "name": "stderr",
     "output_type": "stream",
     "text": [
      "100%|██████████| 500/500 [11:30<00:00,  1.38s/it]\n",
      "100%|██████████| 100/100 [02:20<00:00,  1.40s/it]\n"
     ]
    },
    {
     "name": "stdout",
     "output_type": "stream",
     "text": [
      "Accuracy = 80.060\n"
     ]
    }
   ],
   "execution_count": 19
  }
 ],
 "metadata": {
  "kernelspec": {
   "display_name": "Python 3",
   "language": "python",
   "name": "python3"
  },
  "language_info": {
   "codemirror_mode": {
    "name": "ipython",
    "version": 2
   },
   "file_extension": ".py",
   "mimetype": "text/x-python",
   "name": "python",
   "nbconvert_exporter": "python",
   "pygments_lexer": "ipython2",
   "version": "2.7.6"
  }
 },
 "nbformat": 4,
 "nbformat_minor": 5
}
