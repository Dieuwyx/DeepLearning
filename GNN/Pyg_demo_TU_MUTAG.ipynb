{
 "cells": [
  {
   "metadata": {},
   "cell_type": "markdown",
   "source": "## Tu Dataset：MUTAG",
   "id": "e3dd54817b62ba24"
  },
  {
   "metadata": {},
   "cell_type": "markdown",
   "source": "### 导入数据",
   "id": "c3fe53c302e766e5"
  },
  {
   "metadata": {
    "ExecuteTime": {
     "end_time": "2024-12-08T08:11:23.285951Z",
     "start_time": "2024-12-08T08:11:21.212299Z"
    }
   },
   "cell_type": "code",
   "source": [
    "from torch_geometric.datasets import TUDataset\n",
    "dataset = TUDataset(root='/data/TUDataset', name='MUTAG')\n",
    "\n",
    "print()\n",
    "print(f'Dataset: {dataset}:')\n",
    "print('====================')\n",
    "print(f'Number of graphs: {len(dataset)}')\n",
    "print(f'Number of features: {dataset.num_features}')\n",
    "print(f'Number of classes: {dataset.num_classes}')\n",
    "\n",
    "data = dataset[0]\n",
    "\n",
    "print()\n",
    "print(data)\n",
    "print('=============================================================')\n",
    "\n",
    "# Gather some statistics about the first graph.\n",
    "print(f'Number of nodes: {data.num_nodes}')\n",
    "print(f'Number of edges: {data.num_edges}')\n",
    "print(f'Average node degree: {data.num_edges / data.num_nodes:.2f}')\n",
    "print(f'Has isolated nodes: {data.has_isolated_nodes()}')\n",
    "print(f'Has self-loops: {data.has_self_loops()}')\n",
    "print(f'Is undirected: {data.is_undirected()}')"
   ],
   "id": "1c3444d7820f0795",
   "outputs": [
    {
     "name": "stderr",
     "output_type": "stream",
     "text": [
      "Downloading https://www.chrsmrrs.com/graphkerneldatasets/MUTAG.zip\n"
     ]
    },
    {
     "name": "stdout",
     "output_type": "stream",
     "text": [
      "\n",
      "Dataset: MUTAG(188):\n",
      "====================\n",
      "Number of graphs: 188\n",
      "Number of features: 7\n",
      "Number of classes: 2\n",
      "\n",
      "Data(edge_index=[2, 38], x=[17, 7], edge_attr=[38, 4], y=[1])\n",
      "=============================================================\n",
      "Number of nodes: 17\n",
      "Number of edges: 38\n",
      "Average node degree: 2.24\n",
      "Has isolated nodes: False\n",
      "Has self-loops: False\n",
      "Is undirected: True\n"
     ]
    },
    {
     "name": "stderr",
     "output_type": "stream",
     "text": [
      "Processing...\n",
      "Done!\n"
     ]
    }
   ],
   "execution_count": 2
  },
  {
   "metadata": {},
   "cell_type": "markdown",
   "source": [
    "188张图，17个点，每个点7维特征，分类任务为2类。\n",
    "\n",
    "邻接矩阵为稀疏矩阵，38个边。\n",
    "\n",
    "下面将图分类2个集，150张用于训练，38张用于测试。"
   ],
   "id": "ab3138642a7c45ff"
  },
  {
   "metadata": {
    "ExecuteTime": {
     "end_time": "2024-12-08T08:18:23.360399Z",
     "start_time": "2024-12-08T08:18:23.328296Z"
    }
   },
   "cell_type": "code",
   "source": [
    "import torch\n",
    "\n",
    "torch.manual_seed(12345)\n",
    "dataset = dataset.shuffle()\n",
    "\n",
    "train_dataset = dataset[:150]\n",
    "test_dataset = dataset[150:]\n",
    "\n",
    "print(f'Number of training graphs: {len(train_dataset)}')\n",
    "print(f'Number of test graphs: {len(test_dataset)}')"
   ],
   "id": "3667b426ac865d33",
   "outputs": [
    {
     "name": "stdout",
     "output_type": "stream",
     "text": [
      "Number of training graphs: 150\n",
      "Number of test graphs: 38\n"
     ]
    }
   ],
   "execution_count": 3
  },
  {
   "metadata": {},
   "cell_type": "markdown",
   "source": "在 torch_geometricy.data.dataloader 类的帮助下，PyTorch Geometric自动地将多个图形批处理成一个巨大的图形",
   "id": "b9869084c4ec97f1"
  },
  {
   "metadata": {
    "ExecuteTime": {
     "end_time": "2024-12-08T08:18:55.151680Z",
     "start_time": "2024-12-08T08:18:55.104293Z"
    }
   },
   "cell_type": "code",
   "source": [
    "from torch_geometric.loader import DataLoader\n",
    "\n",
    "train_loader = DataLoader(train_dataset, batch_size=64, shuffle=True)\n",
    "test_loader = DataLoader(test_dataset, batch_size=64, shuffle=False)\n",
    "\n",
    "for step, data in enumerate(train_loader):\n",
    "    print(f'Step {step + 1}:')\n",
    "    print('=======')\n",
    "    print(f'Number of graphs in the current batch: {data.num_graphs}')\n",
    "    print(data)\n",
    "    print()"
   ],
   "id": "a8ad622014194d5",
   "outputs": [
    {
     "name": "stdout",
     "output_type": "stream",
     "text": [
      "Step 1:\n",
      "=======\n",
      "Number of graphs in the current batch: 64\n",
      "DataBatch(edge_index=[2, 2636], x=[1188, 7], edge_attr=[2636, 4], y=[64], batch=[1188], ptr=[65])\n",
      "\n",
      "Step 2:\n",
      "=======\n",
      "Number of graphs in the current batch: 64\n",
      "DataBatch(edge_index=[2, 2506], x=[1139, 7], edge_attr=[2506, 4], y=[64], batch=[1139], ptr=[65])\n",
      "\n",
      "Step 3:\n",
      "=======\n",
      "Number of graphs in the current batch: 22\n",
      "DataBatch(edge_index=[2, 852], x=[387, 7], edge_attr=[852, 4], y=[22], batch=[387], ptr=[23])\n",
      "\n"
     ]
    }
   ],
   "execution_count": 4
  },
  {
   "metadata": {},
   "cell_type": "markdown",
   "source": "### GNN网络",
   "id": "4a09a0f30fbcf106"
  },
  {
   "metadata": {
    "ExecuteTime": {
     "end_time": "2024-12-08T08:26:43.042416Z",
     "start_time": "2024-12-08T08:26:42.979693Z"
    }
   },
   "cell_type": "code",
   "source": [
    "from torch.nn import Linear\n",
    "import torch.nn.functional as F\n",
    "from torch_geometric.nn import GCNConv\n",
    "from torch_geometric.nn import global_mean_pool\n",
    "\n",
    "class GCN(torch.nn.Module):\n",
    "    def __init__(self, hidden_channels):\n",
    "        super(GCN, self).__init__()\n",
    "        torch.manual_seed(12345)\n",
    "        self.conv1 = GCNConv(dataset.num_node_features, hidden_channels)\n",
    "        self.conv2 = GCNConv(hidden_channels, hidden_channels)\n",
    "        self.conv3 = GCNConv(hidden_channels, hidden_channels)\n",
    "        self.lin = Linear(hidden_channels, dataset.num_classes)\n",
    "\n",
    "    def forward(self, x, edge_index, batch):\n",
    "        # 1. 获得节点嵌入\n",
    "        x = self.conv1(x, edge_index)\n",
    "        x = x.relu()\n",
    "        x = self.conv2(x, edge_index)\n",
    "        x = x.relu()\n",
    "        x = self.conv3(x, edge_index)\n",
    "\n",
    "        # 2. Readout layer\n",
    "        x = global_mean_pool(x, batch)   # [batch_size, hidden_channels]\n",
    "\n",
    "        # 3. 分类器\n",
    "        x = F.dropout(x, p=0.5, training=self.training)\n",
    "        x = self.lin(x)\n",
    "\n",
    "        return x\n",
    "\n",
    "model = GCN(hidden_channels=64)\n",
    "print(model)\n",
    "# 输出结果"
   ],
   "id": "be1e3706b1c317b5",
   "outputs": [
    {
     "name": "stdout",
     "output_type": "stream",
     "text": [
      "GCN(\n",
      "  (conv1): GCNConv(7, 64)\n",
      "  (conv2): GCNConv(64, 64)\n",
      "  (conv3): GCNConv(64, 64)\n",
      "  (lin): Linear(in_features=64, out_features=2, bias=True)\n",
      ")\n"
     ]
    }
   ],
   "execution_count": 6
  },
  {
   "metadata": {},
   "cell_type": "markdown",
   "source": "#### 进行训练",
   "id": "20620f0c477619f4"
  },
  {
   "metadata": {
    "ExecuteTime": {
     "end_time": "2024-12-08T08:59:42.590729Z",
     "start_time": "2024-12-08T08:59:42.573804Z"
    }
   },
   "cell_type": "code",
   "source": [
    "model = GCN(hidden_channels=64)\n",
    "criterion = torch.nn.CrossEntropyLoss()\n",
    "optimizer = torch.optim.Adam(model.parameters(), lr=0.01)\n",
    "\n",
    "\n",
    "def train():\n",
    "    model.train()\n",
    "    for data in train_loader:\n",
    "        optimizer.zero_grad()\n",
    "        out = model(data.x, data.edge_index, data.batch)\n",
    "        loss = criterion(out, data.y)\n",
    "\n",
    "        loss.backward()\n",
    "        optimizer.step()\n",
    "    return loss\n",
    "\n",
    "def test(loader):\n",
    "    model.eval()\n",
    "    test_corr = 0\n",
    "    for data in loader:                            # 批遍历测试集数据集。\n",
    "        out = model(data.x, data.edge_index, data.batch) # 一次前向传播\n",
    "        pred = out.argmax(dim=1)                         # 使用概率最高的类别\n",
    "        test_corr += int((pred == data.y).sum())\n",
    "\n",
    "\n",
    "    test_acc = test_corr / (len(loader.dataset))# 检查真实标签\n",
    "    return test_acc"
   ],
   "id": "d3421c29deee5479",
   "outputs": [],
   "execution_count": 27
  },
  {
   "metadata": {
    "ExecuteTime": {
     "end_time": "2024-12-08T08:59:53.311410Z",
     "start_time": "2024-12-08T08:59:44.007286Z"
    }
   },
   "cell_type": "code",
   "source": [
    "from tqdm import *\n",
    "for epoch in (range(1, 121)):\n",
    "    loss = train()\n",
    "    train_Acc = test(train_loader)\n",
    "    test_Acc = test(test_loader)\n",
    "    print(f'Epoch: {epoch:03d}, Train Acc: {train_Acc:.4f}, Test Acc: {test_Acc:.4f}, Loss: {loss:.4f}')"
   ],
   "id": "3c90ea8b8ea0f9e7",
   "outputs": [
    {
     "name": "stdout",
     "output_type": "stream",
     "text": [
      "Epoch: 001, Train Acc: 0.6467, Test Acc: 0.7368, Loss: 0.6055\n",
      "Epoch: 002, Train Acc: 0.6467, Test Acc: 0.7368, Loss: 0.7082\n",
      "Epoch: 003, Train Acc: 0.6467, Test Acc: 0.7368, Loss: 0.6456\n",
      "Epoch: 004, Train Acc: 0.6467, Test Acc: 0.7368, Loss: 0.6844\n",
      "Epoch: 005, Train Acc: 0.6467, Test Acc: 0.7368, Loss: 0.6519\n",
      "Epoch: 006, Train Acc: 0.6533, Test Acc: 0.7368, Loss: 0.5936\n",
      "Epoch: 007, Train Acc: 0.7467, Test Acc: 0.7632, Loss: 0.5640\n",
      "Epoch: 008, Train Acc: 0.7267, Test Acc: 0.7632, Loss: 0.5831\n",
      "Epoch: 009, Train Acc: 0.7200, Test Acc: 0.7632, Loss: 0.5043\n",
      "Epoch: 010, Train Acc: 0.7133, Test Acc: 0.7895, Loss: 0.5096\n",
      "Epoch: 011, Train Acc: 0.7200, Test Acc: 0.7632, Loss: 0.4827\n",
      "Epoch: 012, Train Acc: 0.7200, Test Acc: 0.7895, Loss: 0.5198\n",
      "Epoch: 013, Train Acc: 0.7200, Test Acc: 0.7895, Loss: 0.5163\n",
      "Epoch: 014, Train Acc: 0.7133, Test Acc: 0.8421, Loss: 0.7013\n",
      "Epoch: 015, Train Acc: 0.7133, Test Acc: 0.8421, Loss: 0.4883\n",
      "Epoch: 016, Train Acc: 0.7533, Test Acc: 0.7368, Loss: 0.6812\n",
      "Epoch: 017, Train Acc: 0.7400, Test Acc: 0.7632, Loss: 0.3479\n",
      "Epoch: 018, Train Acc: 0.7133, Test Acc: 0.8421, Loss: 0.5224\n",
      "Epoch: 019, Train Acc: 0.7400, Test Acc: 0.7895, Loss: 0.5890\n",
      "Epoch: 020, Train Acc: 0.7533, Test Acc: 0.7368, Loss: 0.3458\n",
      "Epoch: 021, Train Acc: 0.7467, Test Acc: 0.7895, Loss: 0.3513\n",
      "Epoch: 022, Train Acc: 0.7467, Test Acc: 0.7895, Loss: 0.4201\n",
      "Epoch: 023, Train Acc: 0.7533, Test Acc: 0.7895, Loss: 0.8267\n",
      "Epoch: 024, Train Acc: 0.7267, Test Acc: 0.8421, Loss: 0.6539\n",
      "Epoch: 025, Train Acc: 0.7533, Test Acc: 0.7632, Loss: 0.5388\n",
      "Epoch: 026, Train Acc: 0.7533, Test Acc: 0.7632, Loss: 0.6038\n",
      "Epoch: 027, Train Acc: 0.7600, Test Acc: 0.8158, Loss: 0.4815\n",
      "Epoch: 028, Train Acc: 0.7533, Test Acc: 0.8421, Loss: 0.5224\n",
      "Epoch: 029, Train Acc: 0.7600, Test Acc: 0.7632, Loss: 0.5154\n",
      "Epoch: 030, Train Acc: 0.7600, Test Acc: 0.8158, Loss: 0.4541\n",
      "Epoch: 031, Train Acc: 0.7600, Test Acc: 0.8158, Loss: 0.4546\n",
      "Epoch: 032, Train Acc: 0.7600, Test Acc: 0.7632, Loss: 0.3641\n",
      "Epoch: 033, Train Acc: 0.7667, Test Acc: 0.7632, Loss: 0.3888\n",
      "Epoch: 034, Train Acc: 0.7667, Test Acc: 0.7895, Loss: 0.5102\n",
      "Epoch: 035, Train Acc: 0.7667, Test Acc: 0.7895, Loss: 0.4778\n",
      "Epoch: 036, Train Acc: 0.7667, Test Acc: 0.7632, Loss: 0.6040\n",
      "Epoch: 037, Train Acc: 0.7400, Test Acc: 0.7632, Loss: 0.3426\n",
      "Epoch: 038, Train Acc: 0.7667, Test Acc: 0.8158, Loss: 0.8732\n",
      "Epoch: 039, Train Acc: 0.7667, Test Acc: 0.7895, Loss: 0.5417\n",
      "Epoch: 040, Train Acc: 0.7533, Test Acc: 0.7368, Loss: 0.3038\n",
      "Epoch: 041, Train Acc: 0.7467, Test Acc: 0.7368, Loss: 0.5705\n",
      "Epoch: 042, Train Acc: 0.7667, Test Acc: 0.7895, Loss: 0.5341\n",
      "Epoch: 043, Train Acc: 0.7667, Test Acc: 0.8158, Loss: 0.6611\n",
      "Epoch: 044, Train Acc: 0.7533, Test Acc: 0.7632, Loss: 0.4628\n",
      "Epoch: 045, Train Acc: 0.7600, Test Acc: 0.7632, Loss: 0.3857\n",
      "Epoch: 046, Train Acc: 0.7600, Test Acc: 0.7632, Loss: 0.5648\n",
      "Epoch: 047, Train Acc: 0.7667, Test Acc: 0.8158, Loss: 0.4537\n",
      "Epoch: 048, Train Acc: 0.7600, Test Acc: 0.7632, Loss: 0.3273\n",
      "Epoch: 049, Train Acc: 0.7667, Test Acc: 0.7632, Loss: 0.4441\n",
      "Epoch: 050, Train Acc: 0.7667, Test Acc: 0.8158, Loss: 0.4945\n",
      "Epoch: 051, Train Acc: 0.7733, Test Acc: 0.7895, Loss: 0.5197\n",
      "Epoch: 052, Train Acc: 0.7733, Test Acc: 0.8158, Loss: 0.5183\n",
      "Epoch: 053, Train Acc: 0.7667, Test Acc: 0.7632, Loss: 0.3522\n",
      "Epoch: 054, Train Acc: 0.7667, Test Acc: 0.7632, Loss: 0.6225\n",
      "Epoch: 055, Train Acc: 0.7800, Test Acc: 0.7895, Loss: 0.3439\n",
      "Epoch: 056, Train Acc: 0.7667, Test Acc: 0.7632, Loss: 0.5695\n",
      "Epoch: 057, Train Acc: 0.7533, Test Acc: 0.7632, Loss: 0.7518\n",
      "Epoch: 058, Train Acc: 0.7733, Test Acc: 0.7895, Loss: 0.5321\n",
      "Epoch: 059, Train Acc: 0.7800, Test Acc: 0.7632, Loss: 0.5808\n",
      "Epoch: 060, Train Acc: 0.7733, Test Acc: 0.8158, Loss: 0.5871\n",
      "Epoch: 061, Train Acc: 0.7667, Test Acc: 0.7632, Loss: 0.6021\n",
      "Epoch: 062, Train Acc: 0.7733, Test Acc: 0.8158, Loss: 0.4949\n",
      "Epoch: 063, Train Acc: 0.7733, Test Acc: 0.8158, Loss: 0.4143\n",
      "Epoch: 064, Train Acc: 0.7733, Test Acc: 0.8158, Loss: 0.5021\n",
      "Epoch: 065, Train Acc: 0.7733, Test Acc: 0.8158, Loss: 0.5459\n",
      "Epoch: 066, Train Acc: 0.7733, Test Acc: 0.7895, Loss: 0.6291\n",
      "Epoch: 067, Train Acc: 0.7733, Test Acc: 0.7895, Loss: 0.5391\n",
      "Epoch: 068, Train Acc: 0.7667, Test Acc: 0.7895, Loss: 0.7606\n",
      "Epoch: 069, Train Acc: 0.7733, Test Acc: 0.8158, Loss: 0.4525\n",
      "Epoch: 070, Train Acc: 0.7667, Test Acc: 0.7895, Loss: 0.5036\n",
      "Epoch: 071, Train Acc: 0.7733, Test Acc: 0.7895, Loss: 0.6300\n",
      "Epoch: 072, Train Acc: 0.7800, Test Acc: 0.7895, Loss: 0.4136\n",
      "Epoch: 073, Train Acc: 0.7733, Test Acc: 0.8158, Loss: 0.3422\n",
      "Epoch: 074, Train Acc: 0.7733, Test Acc: 0.8158, Loss: 0.2831\n",
      "Epoch: 075, Train Acc: 0.7667, Test Acc: 0.7632, Loss: 0.5356\n",
      "Epoch: 076, Train Acc: 0.7800, Test Acc: 0.7895, Loss: 0.3545\n",
      "Epoch: 077, Train Acc: 0.7800, Test Acc: 0.7895, Loss: 0.4580\n",
      "Epoch: 078, Train Acc: 0.7733, Test Acc: 0.8421, Loss: 0.4395\n",
      "Epoch: 079, Train Acc: 0.7667, Test Acc: 0.8158, Loss: 0.3387\n",
      "Epoch: 080, Train Acc: 0.7800, Test Acc: 0.7895, Loss: 0.6253\n",
      "Epoch: 081, Train Acc: 0.7667, Test Acc: 0.7895, Loss: 0.4137\n",
      "Epoch: 082, Train Acc: 0.7600, Test Acc: 0.7632, Loss: 0.4174\n",
      "Epoch: 083, Train Acc: 0.7800, Test Acc: 0.7895, Loss: 0.5070\n",
      "Epoch: 084, Train Acc: 0.7733, Test Acc: 0.7895, Loss: 0.3663\n",
      "Epoch: 085, Train Acc: 0.7667, Test Acc: 0.7895, Loss: 0.6727\n",
      "Epoch: 086, Train Acc: 0.7800, Test Acc: 0.8158, Loss: 0.4627\n",
      "Epoch: 087, Train Acc: 0.7667, Test Acc: 0.7895, Loss: 0.5212\n",
      "Epoch: 088, Train Acc: 0.7800, Test Acc: 0.7895, Loss: 0.5411\n",
      "Epoch: 089, Train Acc: 0.7667, Test Acc: 0.7895, Loss: 0.4856\n",
      "Epoch: 090, Train Acc: 0.7800, Test Acc: 0.7895, Loss: 0.4864\n",
      "Epoch: 091, Train Acc: 0.7800, Test Acc: 0.7895, Loss: 0.4945\n",
      "Epoch: 092, Train Acc: 0.7800, Test Acc: 0.8158, Loss: 0.3795\n",
      "Epoch: 093, Train Acc: 0.7800, Test Acc: 0.7895, Loss: 0.4369\n",
      "Epoch: 094, Train Acc: 0.7733, Test Acc: 0.7895, Loss: 0.3782\n",
      "Epoch: 095, Train Acc: 0.7800, Test Acc: 0.7895, Loss: 0.5790\n",
      "Epoch: 096, Train Acc: 0.7600, Test Acc: 0.7895, Loss: 0.4951\n",
      "Epoch: 097, Train Acc: 0.7733, Test Acc: 0.7895, Loss: 0.4410\n",
      "Epoch: 098, Train Acc: 0.7733, Test Acc: 0.8158, Loss: 0.5044\n",
      "Epoch: 099, Train Acc: 0.7733, Test Acc: 0.7895, Loss: 0.5284\n",
      "Epoch: 100, Train Acc: 0.7733, Test Acc: 0.7895, Loss: 0.4199\n",
      "Epoch: 101, Train Acc: 0.7667, Test Acc: 0.7895, Loss: 0.5127\n",
      "Epoch: 102, Train Acc: 0.7667, Test Acc: 0.7895, Loss: 0.5991\n",
      "Epoch: 103, Train Acc: 0.7733, Test Acc: 0.7895, Loss: 0.6491\n",
      "Epoch: 104, Train Acc: 0.7600, Test Acc: 0.7632, Loss: 0.6636\n",
      "Epoch: 105, Train Acc: 0.7733, Test Acc: 0.7368, Loss: 0.5704\n",
      "Epoch: 106, Train Acc: 0.7600, Test Acc: 0.7632, Loss: 0.4266\n",
      "Epoch: 107, Train Acc: 0.7733, Test Acc: 0.7105, Loss: 0.5144\n",
      "Epoch: 108, Train Acc: 0.8000, Test Acc: 0.7632, Loss: 0.5735\n",
      "Epoch: 109, Train Acc: 0.7800, Test Acc: 0.7895, Loss: 0.3648\n",
      "Epoch: 110, Train Acc: 0.7733, Test Acc: 0.7632, Loss: 0.4861\n",
      "Epoch: 111, Train Acc: 0.7733, Test Acc: 0.7895, Loss: 0.2891\n",
      "Epoch: 112, Train Acc: 0.7733, Test Acc: 0.7895, Loss: 0.4472\n",
      "Epoch: 113, Train Acc: 0.7667, Test Acc: 0.7895, Loss: 0.5923\n",
      "Epoch: 114, Train Acc: 0.7733, Test Acc: 0.7895, Loss: 0.4809\n",
      "Epoch: 115, Train Acc: 0.7667, Test Acc: 0.7895, Loss: 0.4602\n",
      "Epoch: 116, Train Acc: 0.7733, Test Acc: 0.7632, Loss: 0.4732\n",
      "Epoch: 117, Train Acc: 0.7733, Test Acc: 0.7895, Loss: 0.4291\n",
      "Epoch: 118, Train Acc: 0.7733, Test Acc: 0.7632, Loss: 0.4216\n",
      "Epoch: 119, Train Acc: 0.7667, Test Acc: 0.7632, Loss: 0.5837\n",
      "Epoch: 120, Train Acc: 0.8000, Test Acc: 0.7105, Loss: 0.5083\n"
     ]
    }
   ],
   "execution_count": 28
  }
 ],
 "metadata": {
  "kernelspec": {
   "display_name": "Python 3",
   "language": "python",
   "name": "python3"
  },
  "language_info": {
   "codemirror_mode": {
    "name": "ipython",
    "version": 2
   },
   "file_extension": ".py",
   "mimetype": "text/x-python",
   "name": "python",
   "nbconvert_exporter": "python",
   "pygments_lexer": "ipython2",
   "version": "2.7.6"
  }
 },
 "nbformat": 4,
 "nbformat_minor": 5
}
